{
 "cells": [
  {
   "cell_type": "code",
   "execution_count": 75,
   "id": "aerial-tissue",
   "metadata": {
    "execution": {
     "iopub.execute_input": "2021-04-20T12:31:49.391122Z",
     "iopub.status.busy": "2021-04-20T12:31:49.391122Z",
     "iopub.status.idle": "2021-04-20T12:31:49.399121Z",
     "shell.execute_reply": "2021-04-20T12:31:49.398122Z",
     "shell.execute_reply.started": "2021-04-20T12:31:49.391122Z"
    },
    "tags": []
   },
   "outputs": [],
   "source": [
    "import pandas as pd\n",
    "import numpy as np\n",
    "import sweetviz as sv\n",
    "\n",
    "import matplotlib.pyplot as plt\n",
    "\n",
    "pd.options.display.max_columns = 999\n",
    "pd.options.display.max_rows = 30"
   ]
  },
  {
   "cell_type": "code",
   "execution_count": 56,
   "id": "unnecessary-numbers",
   "metadata": {
    "execution": {
     "iopub.execute_input": "2021-04-20T12:25:45.595021Z",
     "iopub.status.busy": "2021-04-20T12:25:45.595021Z",
     "iopub.status.idle": "2021-04-20T12:25:45.718974Z",
     "shell.execute_reply": "2021-04-20T12:25:45.718029Z",
     "shell.execute_reply.started": "2021-04-20T12:25:45.595021Z"
    },
    "tags": []
   },
   "outputs": [],
   "source": [
    "df = pd.read_csv('books.csv')"
   ]
  },
  {
   "cell_type": "code",
   "execution_count": 57,
   "id": "monetary-problem",
   "metadata": {
    "execution": {
     "iopub.execute_input": "2021-04-20T12:25:46.369943Z",
     "iopub.status.busy": "2021-04-20T12:25:46.368949Z",
     "iopub.status.idle": "2021-04-20T12:25:46.389942Z",
     "shell.execute_reply": "2021-04-20T12:25:46.388942Z",
     "shell.execute_reply.started": "2021-04-20T12:25:46.369943Z"
    },
    "tags": []
   },
   "outputs": [
    {
     "name": "stdout",
     "output_type": "stream",
     "text": [
      "<class 'pandas.core.frame.DataFrame'>\n",
      "RangeIndex: 10190 entries, 0 to 10189\n",
      "Data columns (total 21 columns):\n",
      " #   Column             Non-Null Count  Dtype  \n",
      "---  ------             --------------  -----  \n",
      " 0   title              10190 non-null  object \n",
      " 1   serie              10190 non-null  object \n",
      " 2   author             10190 non-null  object \n",
      " 3   language           9870 non-null   object \n",
      " 4   genres             10190 non-null  object \n",
      " 5   id                 10190 non-null  int64  \n",
      " 6   pages              10042 non-null  float64\n",
      " 7   format             10111 non-null  object \n",
      " 8   first_published    10169 non-null  float64\n",
      " 9   rating             10190 non-null  float64\n",
      " 10  rating_count       10190 non-null  int64  \n",
      " 11  five_stars_count   10190 non-null  int64  \n",
      " 12  four_stars_count   10190 non-null  int64  \n",
      " 13  three_stars_count  10190 non-null  int64  \n",
      " 14  two_stars_count    10190 non-null  int64  \n",
      " 15  one_stars_count    10190 non-null  int64  \n",
      " 16  review_count       10190 non-null  int64  \n",
      " 17  awards             10190 non-null  object \n",
      " 18  awards_count       10190 non-null  int64  \n",
      " 19  isbn_13            10008 non-null  float64\n",
      " 20  url                10190 non-null  object \n",
      "dtypes: float64(4), int64(9), object(8)\n",
      "memory usage: 1.6+ MB\n"
     ]
    }
   ],
   "source": [
    "df.info()"
   ]
  },
  {
   "cell_type": "code",
   "execution_count": 91,
   "id": "beautiful-chosen",
   "metadata": {
    "execution": {
     "iopub.execute_input": "2021-04-20T12:53:52.172134Z",
     "iopub.status.busy": "2021-04-20T12:53:52.172134Z",
     "iopub.status.idle": "2021-04-20T12:53:52.251684Z",
     "shell.execute_reply": "2021-04-20T12:53:52.250683Z",
     "shell.execute_reply.started": "2021-04-20T12:53:52.172134Z"
    }
   },
   "outputs": [
    {
     "data": {
      "text/html": [
       "<div>\n",
       "<style scoped>\n",
       "    .dataframe tbody tr th:only-of-type {\n",
       "        vertical-align: middle;\n",
       "    }\n",
       "\n",
       "    .dataframe tbody tr th {\n",
       "        vertical-align: top;\n",
       "    }\n",
       "\n",
       "    .dataframe thead th {\n",
       "        text-align: right;\n",
       "    }\n",
       "</style>\n",
       "<table border=\"1\" class=\"dataframe\">\n",
       "  <thead>\n",
       "    <tr style=\"text-align: right;\">\n",
       "      <th></th>\n",
       "      <th>id</th>\n",
       "      <th>pages</th>\n",
       "      <th>first_published</th>\n",
       "      <th>rating</th>\n",
       "      <th>rating_count</th>\n",
       "      <th>five_stars_count</th>\n",
       "      <th>four_stars_count</th>\n",
       "      <th>three_stars_count</th>\n",
       "      <th>two_stars_count</th>\n",
       "      <th>one_stars_count</th>\n",
       "      <th>review_count</th>\n",
       "      <th>awards_count</th>\n",
       "      <th>isbn_13</th>\n",
       "    </tr>\n",
       "  </thead>\n",
       "  <tbody>\n",
       "    <tr>\n",
       "      <th>count</th>\n",
       "      <td>1.019000e+04</td>\n",
       "      <td>10042.000000</td>\n",
       "      <td>10169.000000</td>\n",
       "      <td>10190.000000</td>\n",
       "      <td>1.019000e+04</td>\n",
       "      <td>1.019000e+04</td>\n",
       "      <td>1.019000e+04</td>\n",
       "      <td>1.019000e+04</td>\n",
       "      <td>10190.000000</td>\n",
       "      <td>10190.000000</td>\n",
       "      <td>10190.000000</td>\n",
       "      <td>10190.000000</td>\n",
       "      <td>1.000800e+04</td>\n",
       "    </tr>\n",
       "    <tr>\n",
       "      <th>mean</th>\n",
       "      <td>8.808878e+06</td>\n",
       "      <td>383.557558</td>\n",
       "      <td>1988.165798</td>\n",
       "      <td>4.056920</td>\n",
       "      <td>7.956202e+04</td>\n",
       "      <td>3.346562e+04</td>\n",
       "      <td>2.614896e+04</td>\n",
       "      <td>1.409686e+04</td>\n",
       "      <td>3964.694014</td>\n",
       "      <td>1885.892738</td>\n",
       "      <td>3973.579097</td>\n",
       "      <td>1.093425</td>\n",
       "      <td>9.737514e+12</td>\n",
       "    </tr>\n",
       "    <tr>\n",
       "      <th>std</th>\n",
       "      <td>1.253883e+07</td>\n",
       "      <td>290.651337</td>\n",
       "      <td>97.969244</td>\n",
       "      <td>0.260809</td>\n",
       "      <td>2.445599e+05</td>\n",
       "      <td>1.210797e+05</td>\n",
       "      <td>7.376049e+04</td>\n",
       "      <td>3.909736e+04</td>\n",
       "      <td>12996.795868</td>\n",
       "      <td>8727.053427</td>\n",
       "      <td>8617.353038</td>\n",
       "      <td>2.236728</td>\n",
       "      <td>5.637066e+11</td>\n",
       "    </tr>\n",
       "    <tr>\n",
       "      <th>min</th>\n",
       "      <td>1.000000e+00</td>\n",
       "      <td>0.000000</td>\n",
       "      <td>1.000000</td>\n",
       "      <td>1.990000</td>\n",
       "      <td>5.000000e+00</td>\n",
       "      <td>1.000000e+00</td>\n",
       "      <td>0.000000e+00</td>\n",
       "      <td>0.000000e+00</td>\n",
       "      <td>0.000000</td>\n",
       "      <td>0.000000</td>\n",
       "      <td>0.000000</td>\n",
       "      <td>0.000000</td>\n",
       "      <td>9.812000e+07</td>\n",
       "    </tr>\n",
       "    <tr>\n",
       "      <th>25%</th>\n",
       "      <td>6.849625e+04</td>\n",
       "      <td>256.000000</td>\n",
       "      <td>1987.000000</td>\n",
       "      <td>3.890000</td>\n",
       "      <td>9.118500e+03</td>\n",
       "      <td>3.393500e+03</td>\n",
       "      <td>2.993250e+03</td>\n",
       "      <td>1.567000e+03</td>\n",
       "      <td>376.000000</td>\n",
       "      <td>130.000000</td>\n",
       "      <td>515.250000</td>\n",
       "      <td>0.000000</td>\n",
       "      <td>9.780346e+12</td>\n",
       "    </tr>\n",
       "    <tr>\n",
       "      <th>50%</th>\n",
       "      <td>1.169834e+06</td>\n",
       "      <td>342.000000</td>\n",
       "      <td>2006.000000</td>\n",
       "      <td>4.060000</td>\n",
       "      <td>2.422000e+04</td>\n",
       "      <td>9.305000e+03</td>\n",
       "      <td>8.306500e+03</td>\n",
       "      <td>4.497000e+03</td>\n",
       "      <td>1108.500000</td>\n",
       "      <td>400.000000</td>\n",
       "      <td>1417.500000</td>\n",
       "      <td>0.000000</td>\n",
       "      <td>9.780765e+12</td>\n",
       "    </tr>\n",
       "    <tr>\n",
       "      <th>75%</th>\n",
       "      <td>1.362312e+07</td>\n",
       "      <td>440.000000</td>\n",
       "      <td>2012.000000</td>\n",
       "      <td>4.230000</td>\n",
       "      <td>6.384525e+04</td>\n",
       "      <td>2.428400e+04</td>\n",
       "      <td>2.206825e+04</td>\n",
       "      <td>1.192025e+04</td>\n",
       "      <td>3106.750000</td>\n",
       "      <td>1300.750000</td>\n",
       "      <td>3632.000000</td>\n",
       "      <td>1.000000</td>\n",
       "      <td>9.781595e+12</td>\n",
       "    </tr>\n",
       "    <tr>\n",
       "      <th>max</th>\n",
       "      <td>5.695605e+07</td>\n",
       "      <td>8258.000000</td>\n",
       "      <td>9006.000000</td>\n",
       "      <td>5.000000</td>\n",
       "      <td>7.440573e+06</td>\n",
       "      <td>4.843091e+06</td>\n",
       "      <td>2.001327e+06</td>\n",
       "      <td>1.052516e+06</td>\n",
       "      <td>560945.000000</td>\n",
       "      <td>562783.000000</td>\n",
       "      <td>174859.000000</td>\n",
       "      <td>41.000000</td>\n",
       "      <td>9.847032e+12</td>\n",
       "    </tr>\n",
       "  </tbody>\n",
       "</table>\n",
       "</div>"
      ],
      "text/plain": [
       "                 id         pages  first_published        rating  \\\n",
       "count  1.019000e+04  10042.000000     10169.000000  10190.000000   \n",
       "mean   8.808878e+06    383.557558      1988.165798      4.056920   \n",
       "std    1.253883e+07    290.651337        97.969244      0.260809   \n",
       "min    1.000000e+00      0.000000         1.000000      1.990000   \n",
       "25%    6.849625e+04    256.000000      1987.000000      3.890000   \n",
       "50%    1.169834e+06    342.000000      2006.000000      4.060000   \n",
       "75%    1.362312e+07    440.000000      2012.000000      4.230000   \n",
       "max    5.695605e+07   8258.000000      9006.000000      5.000000   \n",
       "\n",
       "       rating_count  five_stars_count  four_stars_count  three_stars_count  \\\n",
       "count  1.019000e+04      1.019000e+04      1.019000e+04       1.019000e+04   \n",
       "mean   7.956202e+04      3.346562e+04      2.614896e+04       1.409686e+04   \n",
       "std    2.445599e+05      1.210797e+05      7.376049e+04       3.909736e+04   \n",
       "min    5.000000e+00      1.000000e+00      0.000000e+00       0.000000e+00   \n",
       "25%    9.118500e+03      3.393500e+03      2.993250e+03       1.567000e+03   \n",
       "50%    2.422000e+04      9.305000e+03      8.306500e+03       4.497000e+03   \n",
       "75%    6.384525e+04      2.428400e+04      2.206825e+04       1.192025e+04   \n",
       "max    7.440573e+06      4.843091e+06      2.001327e+06       1.052516e+06   \n",
       "\n",
       "       two_stars_count  one_stars_count   review_count  awards_count  \\\n",
       "count     10190.000000     10190.000000   10190.000000  10190.000000   \n",
       "mean       3964.694014      1885.892738    3973.579097      1.093425   \n",
       "std       12996.795868      8727.053427    8617.353038      2.236728   \n",
       "min           0.000000         0.000000       0.000000      0.000000   \n",
       "25%         376.000000       130.000000     515.250000      0.000000   \n",
       "50%        1108.500000       400.000000    1417.500000      0.000000   \n",
       "75%        3106.750000      1300.750000    3632.000000      1.000000   \n",
       "max      560945.000000    562783.000000  174859.000000     41.000000   \n",
       "\n",
       "            isbn_13  \n",
       "count  1.000800e+04  \n",
       "mean   9.737514e+12  \n",
       "std    5.637066e+11  \n",
       "min    9.812000e+07  \n",
       "25%    9.780346e+12  \n",
       "50%    9.780765e+12  \n",
       "75%    9.781595e+12  \n",
       "max    9.847032e+12  "
      ]
     },
     "execution_count": 91,
     "metadata": {},
     "output_type": "execute_result"
    }
   ],
   "source": [
    "df.describe()"
   ]
  },
  {
   "cell_type": "code",
   "execution_count": 83,
   "id": "intermediate-robin",
   "metadata": {
    "execution": {
     "iopub.execute_input": "2021-04-20T12:35:54.443354Z",
     "iopub.status.busy": "2021-04-20T12:35:54.443354Z",
     "iopub.status.idle": "2021-04-20T12:35:54.656359Z",
     "shell.execute_reply": "2021-04-20T12:35:54.655351Z",
     "shell.execute_reply.started": "2021-04-20T12:35:54.443354Z"
    },
    "tags": []
   },
   "outputs": [
    {
     "data": {
      "text/plain": [
       "<AxesSubplot:>"
      ]
     },
     "execution_count": 83,
     "metadata": {},
     "output_type": "execute_result"
    },
    {
     "data": {
      "image/png": "[encoded data removed]",
      "text/plain": [
       "<Figure size 600x400 with 1 Axes>"
      ]
     },
     "metadata": {},
     "output_type": "display_data"
    }
   ],
   "source": [
    "df['format'].value_counts()[:10].plot.bar()"
   ]
  },
  {
   "cell_type": "code",
   "execution_count": 97,
   "id": "subjective-morgan",
   "metadata": {
    "execution": {
     "iopub.execute_input": "2021-04-20T13:11:51.852862Z",
     "iopub.status.busy": "2021-04-20T13:11:51.852862Z",
     "iopub.status.idle": "2021-04-20T13:11:52.092510Z",
     "shell.execute_reply": "2021-04-20T13:11:52.091347Z",
     "shell.execute_reply.started": "2021-04-20T13:11:51.852862Z"
    }
   },
   "outputs": [
    {
     "data": {
      "text/plain": [
       "<AxesSubplot:ylabel='Frequency'>"
      ]
     },
     "execution_count": 97,
     "metadata": {},
     "output_type": "execute_result"
    },
    {
     "data": {
      "image/png": "[encoded data removed]",
      "text/plain": [
       "<Figure size 600x400 with 1 Axes>"
      ]
     },
     "metadata": {},
     "output_type": "display_data"
    }
   ],
   "source": [
    "df['rating'].plot.hist()"
   ]
  },
  {
   "cell_type": "code",
   "execution_count": 105,
   "id": "greatest-blackjack",
   "metadata": {
    "execution": {
     "iopub.execute_input": "2021-04-20T13:16:29.191531Z",
     "iopub.status.busy": "2021-04-20T13:16:29.191531Z",
     "iopub.status.idle": "2021-04-20T13:16:29.210468Z",
     "shell.execute_reply": "2021-04-20T13:16:29.209466Z",
     "shell.execute_reply.started": "2021-04-20T13:16:29.191531Z"
    },
    "tags": []
   },
   "outputs": [],
   "source": [
    "from sklearn.cluster import KMeans\n",
    "from sklearn import neighbors\n",
    "from sklearn.model_selection import train_test_split\n",
    "from sklearn.preprocessing import MinMaxScaler\n",
    "from sklearn.preprocessing import StandardScaler"
   ]
  },
  {
   "cell_type": "code",
   "execution_count": 107,
   "id": "animated-exhaust",
   "metadata": {
    "execution": {
     "iopub.execute_input": "2021-04-20T13:25:23.699783Z",
     "iopub.status.busy": "2021-04-20T13:25:23.699783Z",
     "iopub.status.idle": "2021-04-20T13:25:23.707041Z",
     "shell.execute_reply": "2021-04-20T13:25:23.706040Z",
     "shell.execute_reply.started": "2021-04-20T13:25:23.699783Z"
    },
    "tags": []
   },
   "outputs": [],
   "source": [
    "from sklearn.neighbors import NearestNeighbors"
   ]
  },
  {
   "cell_type": "code",
   "execution_count": 116,
   "id": "baking-asset",
   "metadata": {
    "execution": {
     "iopub.execute_input": "2021-04-20T13:28:22.492255Z",
     "iopub.status.busy": "2021-04-20T13:28:22.492255Z",
     "iopub.status.idle": "2021-04-20T13:28:22.500183Z",
     "shell.execute_reply": "2021-04-20T13:28:22.499183Z",
     "shell.execute_reply.started": "2021-04-20T13:28:22.492255Z"
    }
   },
   "outputs": [
    {
     "data": {
      "text/plain": [
       "Index(['title', 'serie', 'author', 'language', 'genres', 'id', 'pages',\n",
       "       'format', 'first_published', 'rating', 'rating_count',\n",
       "       'five_stars_count', 'four_stars_count', 'three_stars_count',\n",
       "       'two_stars_count', 'one_stars_count', 'review_count', 'awards',\n",
       "       'awards_count', 'isbn_13', 'url'],\n",
       "      dtype='object')"
      ]
     },
     "execution_count": 116,
     "metadata": {},
     "output_type": "execute_result"
    }
   ],
   "source": [
    "df.columns"
   ]
  },
  {
   "cell_type": "code",
   "execution_count": 122,
   "id": "material-bouquet",
   "metadata": {
    "execution": {
     "iopub.execute_input": "2021-04-20T13:29:59.476301Z",
     "iopub.status.busy": "2021-04-20T13:29:59.475301Z",
     "iopub.status.idle": "2021-04-20T13:29:59.492407Z",
     "shell.execute_reply": "2021-04-20T13:29:59.491405Z",
     "shell.execute_reply.started": "2021-04-20T13:29:59.475301Z"
    },
    "tags": []
   },
   "outputs": [],
   "source": [
    "df1 = df.drop(['title', 'serie', 'author', 'language', 'genres', 'id', 'pages',\n",
    "       'format', 'awards', 'isbn_13', 'url', 'pages', 'first_published'], axis=1)"
   ]
  },
  {
   "cell_type": "code",
   "execution_count": 123,
   "id": "proud-programming",
   "metadata": {
    "execution": {
     "iopub.execute_input": "2021-04-20T13:29:59.962910Z",
     "iopub.status.busy": "2021-04-20T13:29:59.962910Z",
     "iopub.status.idle": "2021-04-20T13:29:59.991860Z",
     "shell.execute_reply": "2021-04-20T13:29:59.990232Z",
     "shell.execute_reply.started": "2021-04-20T13:29:59.962910Z"
    },
    "tags": []
   },
   "outputs": [
    {
     "name": "stdout",
     "output_type": "stream",
     "text": [
      "<class 'pandas.core.frame.DataFrame'>\n",
      "RangeIndex: 10190 entries, 0 to 10189\n",
      "Data columns (total 9 columns):\n",
      " #   Column             Non-Null Count  Dtype  \n",
      "---  ------             --------------  -----  \n",
      " 0   rating             10190 non-null  float64\n",
      " 1   rating_count       10190 non-null  int64  \n",
      " 2   five_stars_count   10190 non-null  int64  \n",
      " 3   four_stars_count   10190 non-null  int64  \n",
      " 4   three_stars_count  10190 non-null  int64  \n",
      " 5   two_stars_count    10190 non-null  int64  \n",
      " 6   one_stars_count    10190 non-null  int64  \n",
      " 7   review_count       10190 non-null  int64  \n",
      " 8   awards_count       10190 non-null  int64  \n",
      "dtypes: float64(1), int64(8)\n",
      "memory usage: 716.6 KB\n"
     ]
    }
   ],
   "source": [
    "df1.info()"
   ]
  },
  {
   "cell_type": "code",
   "execution_count": 124,
   "id": "fatty-participation",
   "metadata": {
    "execution": {
     "iopub.execute_input": "2021-04-20T13:30:00.776456Z",
     "iopub.status.busy": "2021-04-20T13:30:00.776456Z",
     "iopub.status.idle": "2021-04-20T13:30:00.798455Z",
     "shell.execute_reply": "2021-04-20T13:30:00.797456Z",
     "shell.execute_reply.started": "2021-04-20T13:30:00.776456Z"
    },
    "tags": []
   },
   "outputs": [],
   "source": [
    "nbrs = NearestNeighbors(n_neighbors=5, algorithm='ball_tree').fit(df1)"
   ]
  },
  {
   "cell_type": "code",
   "execution_count": 151,
   "id": "actual-community",
   "metadata": {
    "execution": {
     "iopub.execute_input": "2021-04-20T13:35:15.099094Z",
     "iopub.status.busy": "2021-04-20T13:35:15.098096Z",
     "iopub.status.idle": "2021-04-20T13:35:15.113096Z",
     "shell.execute_reply": "2021-04-20T13:35:15.112096Z",
     "shell.execute_reply.started": "2021-04-20T13:35:15.099094Z"
    },
    "tags": []
   },
   "outputs": [],
   "source": [
    "distances, indices = nbrs.kneighbors(df[df['title'] == 'The Firm'].drop(['title', 'serie', 'author', 'language', 'genres', 'id', 'pages',\n",
    "       'format', 'awards', 'isbn_13', 'url', 'pages', 'first_published'], axis=1))"
   ]
  },
  {
   "cell_type": "code",
   "execution_count": 153,
   "id": "statutory-rachel",
   "metadata": {
    "execution": {
     "iopub.execute_input": "2021-04-20T13:35:24.792885Z",
     "iopub.status.busy": "2021-04-20T13:35:24.792885Z",
     "iopub.status.idle": "2021-04-20T13:35:24.811881Z",
     "shell.execute_reply": "2021-04-20T13:35:24.810881Z",
     "shell.execute_reply.started": "2021-04-20T13:35:24.792885Z"
    },
    "tags": []
   },
   "outputs": [
    {
     "data": {
      "text/plain": [
       "array([[ 395,  178,  130,   72,  480],\n",
       "       [7364, 3536, 8905, 3901, 1872]], dtype=int64)"
      ]
     },
     "execution_count": 153,
     "metadata": {},
     "output_type": "execute_result"
    }
   ],
   "source": [
    "indices"
   ]
  },
  {
   "cell_type": "code",
   "execution_count": 157,
   "id": "brave-asbestos",
   "metadata": {
    "execution": {
     "iopub.execute_input": "2021-04-20T13:35:52.248409Z",
     "iopub.status.busy": "2021-04-20T13:35:52.248409Z",
     "iopub.status.idle": "2021-04-20T13:35:52.265410Z",
     "shell.execute_reply": "2021-04-20T13:35:52.264407Z",
     "shell.execute_reply.started": "2021-04-20T13:35:52.248409Z"
    },
    "tags": []
   },
   "outputs": [
    {
     "data": {
      "text/plain": [
       "title                                                Stone of Farewell\n",
       "serie                Stone of Farewell (Memory, Sorrow, and Thorn, #2)\n",
       "author                                                    Tad Williams\n",
       "language                                                       English\n",
       "genres               ['Fantasy', 'Fiction', 'Fantasy', 'Epic Fantas...\n",
       "id                                                               28689\n",
       "pages                                                            608.0\n",
       "format                                                       Paperback\n",
       "first_published                                                 1990.0\n",
       "rating                                                            4.06\n",
       "rating_count                                                     47570\n",
       "five_stars_count                                                 18192\n",
       "four_stars_count                                                 17971\n",
       "three_stars_count                                                 8336\n",
       "two_stars_count                                                   2135\n",
       "one_stars_count                                                    936\n",
       "review_count                                                       727\n",
       "awards                                                              []\n",
       "awards_count                                                         0\n",
       "isbn_13                                                9780886774806.0\n",
       "url                  https://www.goodreads.com/book/show/28689.Ston...\n",
       "Name: 3901, dtype: object"
      ]
     },
     "execution_count": 157,
     "metadata": {},
     "output_type": "execute_result"
    }
   ],
   "source": [
    "df.iloc[3901]"
   ]
  },
  {
   "cell_type": "code",
   "execution_count": null,
   "id": "dangerous-burns",
   "metadata": {},
   "outputs": [],
   "source": []
  }
 ],
 "metadata": {
  "kernelspec": {
   "display_name": "goodreads",
   "language": "python",
   "name": "goodreads"
  },
  "language_info": {
   "codemirror_mode": {
    "name": "ipython",
    "version": 3
   },
   "file_extension": ".py",
   "mimetype": "text/x-python",
   "name": "python",
   "nbconvert_exporter": "python",
   "pygments_lexer": "ipython3",
   "version": "3.9.2"
  }
 },
 "nbformat": 4,
 "nbformat_minor": 5
}

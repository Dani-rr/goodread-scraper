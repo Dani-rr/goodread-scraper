{
 "cells": [
  {
   "cell_type": "code",
   "execution_count": 1,
   "id": "breeding-dublin",
   "metadata": {},
   "outputs": [],
   "source": [
    "import pandas as pd\n",
    "import numpy as np"
   ]
  },
  {
   "cell_type": "code",
   "execution_count": 2,
   "id": "conscious-joyce",
   "metadata": {},
   "outputs": [],
   "source": [
    "df = pd.read_csv('books.csv')"
   ]
  },
  {
   "cell_type": "code",
   "execution_count": 3,
   "id": "continental-journalist",
   "metadata": {},
   "outputs": [
    {
     "name": "stdout",
     "output_type": "stream",
     "text": [
      "<class 'pandas.core.frame.DataFrame'>\n",
      "RangeIndex: 8099 entries, 0 to 8098\n",
      "Data columns (total 22 columns):\n",
      " #   Column             Non-Null Count  Dtype  \n",
      "---  ------             --------------  -----  \n",
      " 0   Unnamed: 0         8099 non-null   int64  \n",
      " 1   title              8099 non-null   object \n",
      " 2   serie              8099 non-null   object \n",
      " 3   author             8099 non-null   object \n",
      " 4   language           7868 non-null   object \n",
      " 5   genres             8099 non-null   object \n",
      " 6   id                 8099 non-null   int64  \n",
      " 7   pages              7996 non-null   float64\n",
      " 8   format             8052 non-null   object \n",
      " 9   first_published    8095 non-null   object \n",
      " 10  rating             8099 non-null   float64\n",
      " 11  rating_count       8099 non-null   int64  \n",
      " 12  five_stars_count   8099 non-null   int64  \n",
      " 13  four_stars_count   8099 non-null   int64  \n",
      " 14  three_stars_count  8099 non-null   int64  \n",
      " 15  two_stars_count    8099 non-null   int64  \n",
      " 16  one_stars_count    8099 non-null   int64  \n",
      " 17  review_count       8099 non-null   int64  \n",
      " 18  awards             8099 non-null   object \n",
      " 19  awards_count       8099 non-null   int64  \n",
      " 20  isbn_13            8024 non-null   object \n",
      " 21  url                8099 non-null   object \n",
      "dtypes: float64(2), int64(10), object(10)\n",
      "memory usage: 1.4+ MB\n"
     ]
    }
   ],
   "source": [
    "df.info()"
   ]
  },
  {
   "cell_type": "code",
   "execution_count": 4,
   "id": "electrical-houston",
   "metadata": {},
   "outputs": [],
   "source": [
    "cols = df.columns.drop(['title', 'language', 'serie', 'author', 'genres', 'format', 'awards', 'url'])"
   ]
  },
  {
   "cell_type": "code",
   "execution_count": 5,
   "id": "extensive-usage",
   "metadata": {},
   "outputs": [
    {
     "data": {
      "text/plain": [
       "Index(['Unnamed: 0', 'id', 'pages', 'first_published', 'rating',\n",
       "       'rating_count', 'five_stars_count', 'four_stars_count',\n",
       "       'three_stars_count', 'two_stars_count', 'one_stars_count',\n",
       "       'review_count', 'awards_count', 'isbn_13'],\n",
       "      dtype='object')"
      ]
     },
     "execution_count": 5,
     "metadata": {},
     "output_type": "execute_result"
    }
   ],
   "source": [
    "cols"
   ]
  },
  {
   "cell_type": "code",
   "execution_count": 6,
   "id": "naughty-camcorder",
   "metadata": {},
   "outputs": [],
   "source": [
    "df[cols] = df[cols].apply(pd.to_numeric, errors='coerce')"
   ]
  },
  {
   "cell_type": "code",
   "execution_count": 7,
   "id": "upset-first",
   "metadata": {},
   "outputs": [
    {
     "name": "stdout",
     "output_type": "stream",
     "text": [
      "<class 'pandas.core.frame.DataFrame'>\n",
      "RangeIndex: 8099 entries, 0 to 8098\n",
      "Data columns (total 22 columns):\n",
      " #   Column             Non-Null Count  Dtype  \n",
      "---  ------             --------------  -----  \n",
      " 0   Unnamed: 0         8099 non-null   int64  \n",
      " 1   title              8099 non-null   object \n",
      " 2   serie              8099 non-null   object \n",
      " 3   author             8099 non-null   object \n",
      " 4   language           7868 non-null   object \n",
      " 5   genres             8099 non-null   object \n",
      " 6   id                 8099 non-null   int64  \n",
      " 7   pages              7996 non-null   float64\n",
      " 8   format             8052 non-null   object \n",
      " 9   first_published    8084 non-null   float64\n",
      " 10  rating             8099 non-null   float64\n",
      " 11  rating_count       8099 non-null   int64  \n",
      " 12  five_stars_count   8099 non-null   int64  \n",
      " 13  four_stars_count   8099 non-null   int64  \n",
      " 14  three_stars_count  8099 non-null   int64  \n",
      " 15  two_stars_count    8099 non-null   int64  \n",
      " 16  one_stars_count    8099 non-null   int64  \n",
      " 17  review_count       8099 non-null   int64  \n",
      " 18  awards             8099 non-null   object \n",
      " 19  awards_count       8099 non-null   int64  \n",
      " 20  isbn_13            7961 non-null   float64\n",
      " 21  url                8099 non-null   object \n",
      "dtypes: float64(4), int64(10), object(8)\n",
      "memory usage: 1.4+ MB\n"
     ]
    }
   ],
   "source": [
    "df.info()"
   ]
  },
  {
   "cell_type": "code",
   "execution_count": null,
   "id": "reduced-rouge",
   "metadata": {},
   "outputs": [],
   "source": []
  }
 ],
 "metadata": {
  "kernelspec": {
   "display_name": "goodreads",
   "language": "python",
   "name": "goodreads"
  },
  "language_info": {
   "codemirror_mode": {
    "name": "ipython",
    "version": 3
   },
   "file_extension": ".py",
   "mimetype": "text/x-python",
   "name": "python",
   "nbconvert_exporter": "python",
   "pygments_lexer": "ipython3",
   "version": "3.9.2"
  }
 },
 "nbformat": 4,
 "nbformat_minor": 5
}

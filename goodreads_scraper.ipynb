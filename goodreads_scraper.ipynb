{
 "cells": [
  {
   "cell_type": "code",
   "execution_count": 1,
   "metadata": {},
   "outputs": [],
   "source": [
    "from selenium import webdriver\n",
    "from selenium.webdriver.common.keys import Keys\n",
    "\n",
    "from selenium.webdriver.common.by import By\n",
    "from selenium.webdriver.support.ui import WebDriverWait\n",
    "from selenium.webdriver.support import expected_conditions as EC\n",
    "\n",
    "import pandas as pd\n",
    "\n",
    "from tqdm.notebook import tqdm\n",
    "\n",
    "import time\n",
    "\n",
    "import re"
   ]
  },
  {
   "cell_type": "code",
   "execution_count": 2,
   "metadata": {},
   "outputs": [],
   "source": [
    "# Define all the functions for the paramenters we want to scrap from goodreads\n",
    "\n",
    "def book_title():\n",
    "    try:\n",
    "        title = WebDriverWait(driver, 10).until(\n",
    "            EC.presence_of_element_located((By.ID, 'bookTitle'))\n",
    "        )\n",
    "        return title.text\n",
    "    except:\n",
    "        print(f'None title value for {book_url}')\n",
    "        return None\n",
    "    \n",
    "    \n",
    "def book_serie():\n",
    "    try:\n",
    "        serie = driver.find_elements_by_xpath('//*[@property=\"og:title\"]')[0].get_attribute('content')\n",
    "        return serie\n",
    "    except:\n",
    "        print(f'None serie value for {book_url}')\n",
    "        return None\n",
    "\n",
    "\n",
    "def book_author():\n",
    "    try:\n",
    "        author = driver.find_elements_by_xpath('//*[@itemprop=\"name\"]')[1].text\n",
    "        return author\n",
    "    except:\n",
    "        print(f'None author value for {book_url}')\n",
    "        return None\n",
    "    \n",
    "    \n",
    "def book_language():\n",
    "    try:\n",
    "        language = driver.find_elements_by_xpath('//div[@itemprop=\"inLanguage\"]')[0].get_attribute('innerHTML')\n",
    "        return language\n",
    "    except:\n",
    "        print(f'None language value for {book_url}')\n",
    "        return None\n",
    "    \n",
    "    \n",
    "    \n",
    "def book_genres():\n",
    "    genres_lst = []\n",
    "    try:\n",
    "        genres = driver.find_elements_by_xpath('//*[@class=\"actionLinkLite bookPageGenreLink\"]')\n",
    "        for genre in genres:\n",
    "            if genre not in genres_lst:\n",
    "                genres_lst.append(genre.text)\n",
    "        return genres_lst\n",
    "    except:\n",
    "        print(f'None genre value for {book_url}')\n",
    "        return None\n",
    "    \n",
    "    \n",
    "def book_id():\n",
    "    try:\n",
    "        id = driver.find_elements_by_xpath('//*[@name=\"book_id\"]')[0].get_attribute(\"value\")\n",
    "        return id\n",
    "    except:\n",
    "        print(f'None id value for {book_url}')\n",
    "        return None\n",
    "\n",
    "    \n",
    "def book_pages():\n",
    "    try:\n",
    "        pages = driver.find_elements_by_xpath('//*[@property=\"books:page_count\"]')[0].get_attribute('content')\n",
    "        return pages\n",
    "    except:\n",
    "        print(f'None pages value for {book_url}')\n",
    "        return None\n",
    "    \n",
    "    \n",
    "def book_format():\n",
    "    try:\n",
    "        format = driver.find_elements_by_xpath('//*[@itemprop=\"bookFormat\"]')[0].text\n",
    "        return format\n",
    "    except:\n",
    "        print(f'None format value for {book_url}')\n",
    "        return None\n",
    "    \n",
    "    \n",
    "def book_published():\n",
    "    try:\n",
    "        try:\n",
    "            date_raw = driver.find_elements_by_xpath('//div[@class=\"row\"]')[1].text\n",
    "            date_list = re.findall(r'[0-9]{4}', date_raw)\n",
    "            return date_list[-1]\n",
    "\n",
    "        except:\n",
    "            published_raw = driver.find_elements_by_xpath('//div[@class=\"row\"]')[1].text\n",
    "            published = published_raw.split()[3]\n",
    "            return published\n",
    "    except:\n",
    "        print(f'None published value for {book_url}')\n",
    "        return None\n",
    "    \n",
    "    \n",
    "def book_rating():\n",
    "    try:\n",
    "        rating = driver.find_elements_by_xpath('//*[@itemprop=\"ratingValue\"]')[0].text\n",
    "        return rating\n",
    "    except:\n",
    "        print(f'None rating value for {book_url}')\n",
    "        return None\n",
    "    \n",
    "    \n",
    "def book_rating_count():\n",
    "    try:\n",
    "        rating_count = driver.find_elements_by_xpath('//*[@itemprop=\"ratingCount\"]')[0].get_attribute('content')\n",
    "        return rating_count\n",
    "    except:\n",
    "        print(f'None rating_count value for {book_url}')\n",
    "        return None\n",
    "    \n",
    "    \n",
    "def book_rating_distribution():\n",
    "    try:\n",
    "        ratings = driver.find_elements_by_xpath('//*[@type=\"text/javascript+protovis\"]')[0].get_property('innerHTML')\n",
    "        distribution_lst = re.findall(r'\\d+', ratings)\n",
    "        return distribution_lst\n",
    "    except:\n",
    "        print(f'None rating_distribution value for {book_url}')\n",
    "        return None\n",
    "\n",
    "    \n",
    "def book_review_count():\n",
    "    try:\n",
    "        review_count = driver.find_elements_by_xpath('//*[@itemprop=\"reviewCount\"]')[0].get_attribute('content')\n",
    "        return review_count\n",
    "    except:\n",
    "        print(f'None review_count value for {book_url}')\n",
    "        return None\n",
    "    \n",
    "    \n",
    "def book_awards():\n",
    "    awards_lst = []\n",
    "    try:\n",
    "        awards = driver.find_elements_by_xpath('//*[@class=\"award\"]')\n",
    "        for award in awards:\n",
    "            if award not in awards_lst:\n",
    "                awards_lst.append(award.get_attribute('innerHTML'))\n",
    "        return awards_lst\n",
    "    except:\n",
    "        print(f'None award value for {book_url}')\n",
    "        return None\n",
    "\n",
    "    \n",
    "    \n",
    "def book_isbn():\n",
    "    try:\n",
    "        scripts = driver.find_elements_by_tag_name(\"script\")\n",
    "\n",
    "        for script in scripts:\n",
    "            full_text = script.get_property('innerHTML')\n",
    "            isbns = re.findall(r'nisbn: [0-9]{9}' , full_text)\n",
    "            if isbns:\n",
    "                for isbn in isbns:\n",
    "                    return(isbn.split()[-1])\n",
    "            else:\n",
    "                try:\n",
    "                    isbn = driver.find_elements_by_xpath('//div[@class=\"infoBoxRowItem\"]')[1].get_attribute('innerHTML').split()[0]\n",
    "                    return isbn\n",
    "                except:\n",
    "                    raise Exception('No value')\n",
    "            \n",
    "    except:\n",
    "        print(f'None isbn value for {book_url}')\n",
    "        return None\n",
    "\n",
    "    \n",
    "def book_isbn13():\n",
    "    try:\n",
    "\n",
    "        scripts = driver.find_elements_by_tag_name(\"script\")\n",
    "\n",
    "        for script in scripts:\n",
    "            full_text = script.get_property('innerHTML')\n",
    "            isbns13 = re.findall(r'isbn13: [0-9]{13}' , full_text, re.I)\n",
    "#                 if isbns13:\n",
    "            for isbn13 in isbns13:\n",
    "                if isbn13:\n",
    "                    return isbn13.split()[-1]\n",
    "                else:\n",
    "                    raise Exception('No value')\n",
    "                    \n",
    "        isbn13 =  WebDriverWait(driver, 2).until(\n",
    "                EC.presence_of_element_located((By.XPATH, '//*[@itemprop=\"isbn\"]'))).get_attribute('innerHTML')\n",
    "        return (isbn13)\n",
    "\n",
    "    except:\n",
    "        print(f'None isbn_13 value for {book_url}')\n",
    "        return None"
   ]
  },
  {
   "cell_type": "code",
   "execution_count": 3,
   "metadata": {},
   "outputs": [],
   "source": [
    "def get_book(book_url):\n",
    "    driver.get(book_url)\n",
    "    book_info_dict = {'title'               : book_title(),\n",
    "                      'serie'               : book_serie(),\n",
    "                      'author'              : book_author(),\n",
    "                      'language'            : book_language(),\n",
    "                      'genres'              : book_genres(),\n",
    "                      'id'                  : book_id(),\n",
    "                      'pages'               : book_pages(),\n",
    "                      'format'              : book_format(),\n",
    "                      'first_published'     : book_published(),\n",
    "                      'rating'              : book_rating(),\n",
    "                      'rating_count'        : book_rating_count(),\n",
    "                      'five_stars_count'    : book_rating_distribution()[0],\n",
    "                      'four_stars_count'    : book_rating_distribution()[1],\n",
    "                      'three_stars_count'   : book_rating_distribution()[2],\n",
    "                      'two_stars_count'     : book_rating_distribution()[3],\n",
    "                      'one_stars_count'     : book_rating_distribution()[4],\n",
    "                      'review_count'        : book_review_count(),\n",
    "                      'awards'              : book_awards(),\n",
    "                      'awards_count'        : len(book_awards()),\n",
    "    #                           'isbn'                : book_isbn(),\n",
    "                      'isbn_13'             : book_isbn13(),\n",
    "                      'url'                 : driver.current_url\n",
    "                     }\n",
    "    return book_info_dict"
   ]
  },
  {
   "cell_type": "code",
   "execution_count": 4,
   "metadata": {},
   "outputs": [],
   "source": [
    "PATH = \"C:\\Program Files (x86)\\chromedriver.exe\""
   ]
  },
  {
   "cell_type": "code",
   "execution_count": 11,
   "metadata": {},
   "outputs": [
    {
     "name": "stdout",
     "output_type": "stream",
     "text": [
      "List: Best Books Ever (54764 books)\n"
     ]
    }
   ],
   "source": [
    "driver = webdriver.Chrome(PATH)\n",
    "\n",
    "driver.get('https://www.goodreads.com/list/show/1.Best_Books_Ever')\n",
    "\n",
    "print(f'List: {driver.title}')"
   ]
  },
  {
   "cell_type": "code",
   "execution_count": 30,
   "metadata": {
    "tags": []
   },
   "outputs": [
    {
     "data": {
      "application/vnd.jupyter.widget-view+json": {
       "model_id": "f915cc56d0b54c3cadc6da2880f8241b",
       "version_major": 2,
       "version_minor": 0
      },
      "text/plain": [
       "  0%|          | 0/100 [00:00<?, ?it/s]"
      ]
     },
     "metadata": {},
     "output_type": "display_data"
    },
    {
     "name": "stdout",
     "output_type": "stream",
     "text": [
      "None format value for https://www.goodreads.com/book/show/36576608-flowers-for-algernon\n",
      "None published value for https://www.goodreads.com/book/show/646462._\n"
     ]
    }
   ],
   "source": [
    "#Clean the list for every batch\n",
    "book_lst = []\n",
    "\n",
    "# Define batch_size (multiple of 100)\n",
    "batch_size = 100\n",
    "\n",
    "\n",
    "try:\n",
    "    pbar = tqdm(total=batch_size)\n",
    "    n = 0\n",
    "    # The scraper will work in batches of batch_sizes books\n",
    "    while n < batch_size:\n",
    "        \n",
    "        #Get the actual url and check for all the books in this page to iterate the books\n",
    "        current = driver.current_url\n",
    "        lst_books_elements = driver.find_elements_by_xpath('//*[@class=\"bookTitle\"]')\n",
    "        lst_books_urls = [i.get_attribute('href') for i in lst_books_elements]\n",
    "        \n",
    "        #Create a dictionary for each book and append them to a list\n",
    "        for book_url in lst_books_urls:\n",
    "            try:\n",
    "                driver.get(book_url)\n",
    "                book_info_dict = {'title'               : book_title(),\n",
    "                                  'serie'               : book_serie(),\n",
    "                                  'author'              : book_author(),\n",
    "                                  'language'            : book_language(),\n",
    "                                  'genres'              : book_genres(),\n",
    "                                  'id'                  : book_id(),\n",
    "                                  'pages'               : book_pages(),\n",
    "                                  'format'              : book_format(),\n",
    "                                  'first_published'     : book_published(),\n",
    "                                  'rating'              : book_rating(),\n",
    "                                  'rating_count'        : book_rating_count(),\n",
    "                                  'five_stars_count'    : book_rating_distribution()[0],\n",
    "                                  'four_stars_count'    : book_rating_distribution()[1],\n",
    "                                  'three_stars_count'   : book_rating_distribution()[2],\n",
    "                                  'two_stars_count'     : book_rating_distribution()[3],\n",
    "                                  'one_stars_count'     : book_rating_distribution()[4],\n",
    "                                  'review_count'        : book_review_count(),\n",
    "                                  'awards'              : book_awards(),\n",
    "                                  'awards_count'        : len(book_awards()),\n",
    "        #                           'isbn'                : book_isbn(),\n",
    "                                  'isbn_13'             : book_isbn13(),\n",
    "                                  'url'                 : driver.current_url\n",
    "                                 }\n",
    "                \n",
    "                #Check if the book is already in the dataframe, if not, add it to the dictionary\n",
    "                id_value = book_info_dict.get('id')\n",
    "                n += 1\n",
    "                if id_value not in df.id.values:\n",
    "                    pbar.update(1)\n",
    "                    book_lst.append(book_info_dict)\n",
    "                    \n",
    "                else:\n",
    "                    pbar.update(1)\n",
    "                    continue\n",
    "                \n",
    "            except:\n",
    "                print('not possible')\n",
    "            \n",
    "        #Need to check for only 1 'next page' (comments), if that is true, stop the iteration.\n",
    "        driver.get(current)\n",
    "        next_page_list = driver.find_elements_by_xpath('//a[@class=\"next_page\"]')\n",
    "        if len(next_page_list) > 1:\n",
    "            driver.find_elements_by_xpath('//a[@class=\"next_page\"]')[0].click()\n",
    "        else:\n",
    "            raise Exception('No more pages')\n",
    "    pbar.close()\n",
    "except:\n",
    "    \n",
    "    print('No more pages')"
   ]
  },
  {
   "cell_type": "code",
   "execution_count": 28,
   "metadata": {},
   "outputs": [],
   "source": [
    "df = pd.DataFrame(book_lst)"
   ]
  },
  {
   "cell_type": "code",
   "execution_count": 8,
   "metadata": {},
   "outputs": [],
   "source": [
    "df = df.append(book_lst, ignore_index=True)"
   ]
  },
  {
   "cell_type": "code",
   "execution_count": 29,
   "metadata": {},
   "outputs": [
    {
     "name": "stdout",
     "output_type": "stream",
     "text": [
      "<class 'pandas.core.frame.DataFrame'>\n",
      "RangeIndex: 101 entries, 0 to 100\n",
      "Data columns (total 21 columns):\n",
      " #   Column             Non-Null Count  Dtype \n",
      "---  ------             --------------  ----- \n",
      " 0   title              101 non-null    object\n",
      " 1   serie              101 non-null    object\n",
      " 2   author             101 non-null    object\n",
      " 3   language           101 non-null    object\n",
      " 4   genres             101 non-null    object\n",
      " 5   id                 101 non-null    object\n",
      " 6   pages              101 non-null    object\n",
      " 7   format             101 non-null    object\n",
      " 8   first_published    101 non-null    object\n",
      " 9   rating             101 non-null    object\n",
      " 10  rating_count       101 non-null    object\n",
      " 11  five_stars_count   101 non-null    object\n",
      " 12  four_stars_count   101 non-null    object\n",
      " 13  three_stars_count  101 non-null    object\n",
      " 14  two_stars_count    101 non-null    object\n",
      " 15  one_stars_count    101 non-null    object\n",
      " 16  review_count       101 non-null    object\n",
      " 17  awards             101 non-null    object\n",
      " 18  awards_count       101 non-null    int64 \n",
      " 19  isbn_13            101 non-null    object\n",
      " 20  url                101 non-null    object\n",
      "dtypes: int64(1), object(20)\n",
      "memory usage: 16.7+ KB\n"
     ]
    }
   ],
   "source": [
    "df.info()"
   ]
  },
  {
   "cell_type": "code",
   "execution_count": 11,
   "metadata": {},
   "outputs": [],
   "source": [
    "cols = df.columns.drop(['title', 'language', 'serie', 'author', 'genres', 'format', 'awards', 'url'])"
   ]
  },
  {
   "cell_type": "code",
   "execution_count": 12,
   "metadata": {},
   "outputs": [
    {
     "data": {
      "text/plain": [
       "Index(['id', 'pages', 'first_published', 'rating', 'rating_count',\n",
       "       'five_stars_count', 'four_stars_count', 'three_stars_count',\n",
       "       'two_stars_count', 'one_stars_count', 'review_count', 'awards_count',\n",
       "       'isbn_13'],\n",
       "      dtype='object')"
      ]
     },
     "execution_count": 12,
     "metadata": {},
     "output_type": "execute_result"
    }
   ],
   "source": [
    "cols"
   ]
  },
  {
   "cell_type": "code",
   "execution_count": 13,
   "metadata": {},
   "outputs": [],
   "source": [
    "df[cols] = df[cols].apply(pd.to_numeric, errors='coerce')"
   ]
  },
  {
   "cell_type": "code",
   "execution_count": 33,
   "metadata": {},
   "outputs": [
    {
     "name": "stdout",
     "output_type": "stream",
     "text": [
      "<class 'pandas.core.frame.DataFrame'>\n",
      "RangeIndex: 1000 entries, 0 to 999\n",
      "Data columns (total 21 columns):\n",
      " #   Column             Non-Null Count  Dtype  \n",
      "---  ------             --------------  -----  \n",
      " 0   title              1000 non-null   object \n",
      " 1   serie              1000 non-null   object \n",
      " 2   author             1000 non-null   object \n",
      " 3   language           989 non-null    object \n",
      " 4   genres             1000 non-null   object \n",
      " 5   id                 1000 non-null   int64  \n",
      " 6   pages              999 non-null    float64\n",
      " 7   format             998 non-null    object \n",
      " 8   first_published    999 non-null    float64\n",
      " 9   rating             1000 non-null   float64\n",
      " 10  rating_count       1000 non-null   int64  \n",
      " 11  five_stars_count   1000 non-null   int64  \n",
      " 12  four_stars_count   1000 non-null   int64  \n",
      " 13  three_stars_count  1000 non-null   int64  \n",
      " 14  two_stars_count    1000 non-null   int64  \n",
      " 15  one_stars_count    1000 non-null   int64  \n",
      " 16  review_count       1000 non-null   int64  \n",
      " 17  awards             1000 non-null   object \n",
      " 18  awards_count       1000 non-null   int64  \n",
      " 19  isbn_13            973 non-null    float64\n",
      " 20  url                1000 non-null   object \n",
      "dtypes: float64(4), int64(9), object(8)\n",
      "memory usage: 164.2+ KB\n"
     ]
    }
   ],
   "source": [
    "df.info()"
   ]
  },
  {
   "cell_type": "code",
   "execution_count": 61,
   "metadata": {},
   "outputs": [
    {
     "data": {
      "text/plain": [
       "True"
      ]
     },
     "execution_count": 61,
     "metadata": {},
     "output_type": "execute_result"
    }
   ],
   "source": [
    "243705 in df.id.values"
   ]
  },
  {
   "cell_type": "code",
   "execution_count": 15,
   "metadata": {},
   "outputs": [
    {
     "data": {
      "text/plain": [
       "1000"
      ]
     },
     "execution_count": 15,
     "metadata": {},
     "output_type": "execute_result"
    }
   ],
   "source": [
    "df.id.nunique()"
   ]
  },
  {
   "cell_type": "code",
   "execution_count": null,
   "metadata": {
    "tags": []
   },
   "outputs": [],
   "source": [
    "driver.close() #this works only for one tab, if you want to close everything use .quit()"
   ]
  }
 ],
 "metadata": {
  "kernelspec": {
   "display_name": "goodreads",
   "language": "python",
   "name": "goodreads"
  },
  "language_info": {
   "codemirror_mode": {
    "name": "ipython",
    "version": 3
   },
   "file_extension": ".py",
   "mimetype": "text/x-python",
   "name": "python",
   "nbconvert_exporter": "python",
   "pygments_lexer": "ipython3",
   "version": "3.9.2"
  }
 },
 "nbformat": 4,
 "nbformat_minor": 4
}
